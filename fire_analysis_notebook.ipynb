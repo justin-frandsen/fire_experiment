{
 "cells": [
  {
   "cell_type": "markdown",
   "id": "82a26c53",
   "metadata": {},
   "source": [
    "# Fire analysis script\n",
    "The goal of this script is to complete a regression where region of interest type, saliency, and other features are used to predict fixation behavior."
   ]
  },
  {
   "cell_type": "markdown",
   "id": "4928da49",
   "metadata": {},
   "source": [
    "## 1. Load eye movement data\n",
    "\n",
    "This cell loads the monkey's raw eye movement data from a CSV file."
   ]
  },
  {
   "cell_type": "code",
   "execution_count": null,
   "id": "e2a18ac4",
   "metadata": {},
   "outputs": [],
   "source": [
    "import pandas as pd\n",
    "\n",
    "eye_df = pd.read_csv(\"RawData_AllAnimals.csv\")\n",
    "eye_df = eye_df[eye_df['ROI'] != \"OffScreen\"] #remove rows where ROI is \"OffScreen\"\n",
    "eye_df = eye_df[eye_df['ImageType'] == \"F\"] #Only keep rows where ImageType is \"F\"\n",
    "#eye_df = eye_df[eye_df['FixDur'] >= 100] #Only fixations over X ms\n",
    "\n"
   ]
  },
  {
   "cell_type": "markdown",
   "id": "b00d5c6c",
   "metadata": {},
   "source": [
    "## 2. Load ROI masks and saliency maps\n",
    "\n",
    "This cell loads all ROI type/index masks and saliency maps into dictionaries for fast lookup by image name."
   ]
  },
  {
   "cell_type": "code",
   "execution_count": 30,
   "id": "615b964b",
   "metadata": {},
   "outputs": [
    {
     "name": "stdout",
     "output_type": "stream",
     "text": [
      "ROI sizes for FStil13.jpg: {0: 1104669, 1: 547130, 2: 96792, 3: 74166, 4: 33920, 5: 20874, 6: 63486, 7: 43979, 8: 32607, 9: 28316, 10: 27661}\n"
     ]
    }
   ],
   "source": [
    "import numpy as np\n",
    "import os\n",
    "\n",
    "# Load ROI masks\n",
    "roi_type_dict = {}\n",
    "roi_index_dict = {}\n",
    "\n",
    "csv_names = os.listdir(\"csv_output\")\n",
    "csv_names.remove(\"mean_saliency.csv\")  # Exclude mean_saliency if present\n",
    "\n",
    "for fname in os.listdir(\"contour_masks\"):\n",
    "    if \"roi_type\" in fname:\n",
    "        key = fname.split(\"_roi_type\")[0]\n",
    "        roi_type_dict[key] = np.load(os.path.join(\"contour_masks\", fname))\n",
    "    elif \"roi_index\" in fname:\n",
    "        key = fname.split(\"_roi_index\")[0]\n",
    "        roi_index_dict[key] = np.load(os.path.join(\"contour_masks\", fname))\n",
    "\n",
    "# Calculate the size (number of pixels) of each ROI in each image\n",
    "\n",
    "roi_sizes = {}\n",
    "\n",
    "for img_name, roi_index_mask in roi_index_dict.items():\n",
    "    unique, counts = np.unique(roi_index_mask, return_counts=True)\n",
    "    roi_sizes[img_name] = dict(zip(unique, counts))\n",
    "\n",
    "# Example: print ROI sizes for the first image\n",
    "first_img = list(roi_sizes.keys())[0]\n",
    "print(f\"ROI sizes for {first_img}: {roi_sizes[first_img]}\")\n",
    "\n",
    "# Load saliency maps from CSV files into a dictionary with image base names as keys\n",
    "saliency_dict = {}\n",
    "for fname in csv_names:\n",
    "    if fname.endswith(\"_saliency.csv\"):\n",
    "        key = fname.split(\"_saliency\")[0]\n",
    "        # Try reading as CSV, skip header if present\n",
    "        try:\n",
    "            arr = np.loadtxt(os.path.join(\"csv_output\", fname), delimiter=',')\n",
    "        except Exception:\n",
    "            arr = pd.read_csv(os.path.join(\"csv_output\", fname), header=None).values\n",
    "        saliency_dict[key] = arr\n",
    "\n"
   ]
  },
  {
   "cell_type": "markdown",
   "id": "0a52e077",
   "metadata": {},
   "source": [
    "## 3. Join eye movement data with image features\n",
    "\n",
    "This cell creates a new DataFrame where each fixation is enriched with ROI type, ROI index, and saliency at the fixation location."
   ]
  },
  {
   "cell_type": "code",
   "execution_count": 31,
   "id": "5cb36c44",
   "metadata": {},
   "outputs": [
    {
     "data": {
      "application/vnd.microsoft.datawrangler.viewer.v0+json": {
       "columns": [
        {
         "name": "index",
         "rawType": "int64",
         "type": "integer"
        },
        {
         "name": "Subject",
         "rawType": "object",
         "type": "string"
        },
        {
         "name": "Stimuli",
         "rawType": "object",
         "type": "string"
        },
        {
         "name": "FixStart",
         "rawType": "float64",
         "type": "float"
        },
        {
         "name": "FixEnd",
         "rawType": "float64",
         "type": "float"
        },
        {
         "name": "FixDur",
         "rawType": "float64",
         "type": "float"
        },
        {
         "name": "XPos",
         "rawType": "int64",
         "type": "integer"
        },
        {
         "name": "YPos",
         "rawType": "int64",
         "type": "integer"
        },
        {
         "name": "ROI",
         "rawType": "object",
         "type": "string"
        },
        {
         "name": "Block",
         "rawType": "int64",
         "type": "integer"
        },
        {
         "name": "Trial",
         "rawType": "object",
         "type": "string"
        },
        {
         "name": "ImageType",
         "rawType": "object",
         "type": "string"
        },
        {
         "name": "Species",
         "rawType": "object",
         "type": "string"
        },
        {
         "name": "SubjectName",
         "rawType": "object",
         "type": "string"
        },
        {
         "name": "roi_type",
         "rawType": "int8",
         "type": "integer"
        },
        {
         "name": "roi_index",
         "rawType": "int16",
         "type": "integer"
        },
        {
         "name": "saliency",
         "rawType": "float64",
         "type": "float"
        },
        {
         "name": "area",
         "rawType": "int64",
         "type": "integer"
        }
       ],
       "ref": "ab916f85-4cca-4c5c-bedc-2a3c972fff30",
       "rows": [
        [
         "0",
         "Cheyenne_20240702_1420",
         "FStil09.png",
         "232.713",
         "392.695",
         "163.256",
         "1527",
         "561",
         "NonFire",
         "1",
         "Cheyenne_Block1_20240702_1420.xlsx",
         "F",
         "Baboon",
         "Cheyenne",
         "1",
         "1",
         "52.848876953125",
         "771609"
        ],
        [
         "1",
         "Cheyenne_20240702_1420",
         "FStil09.png",
         "409.259",
         "645.983",
         "239.965",
         "1093",
         "378",
         "Fire",
         "1",
         "Cheyenne_Block1_20240702_1420.xlsx",
         "F",
         "Baboon",
         "Cheyenne",
         "1",
         "1",
         "171.1674041748047",
         "771609"
        ],
        [
         "2",
         "Cheyenne_20240702_1420",
         "FStil09.png",
         "655.942",
         "869.192",
         "216.689",
         "1193",
         "525",
         "NonFire",
         "1",
         "Cheyenne_Block1_20240702_1420.xlsx",
         "F",
         "Baboon",
         "Cheyenne",
         "1",
         "1",
         "148.38401794433594",
         "771609"
        ],
        [
         "3",
         "Cheyenne_20240702_1420",
         "FStil09.png",
         "899.287",
         "1055.843",
         "159.995",
         "1664",
         "123",
         "NonFire",
         "1",
         "Cheyenne_Block1_20240702_1420.xlsx",
         "F",
         "Baboon",
         "Cheyenne",
         "0",
         "0",
         "36.48859786987305",
         "993632"
        ],
        [
         "4",
         "Cheyenne_20240702_1420",
         "FStil04.png",
         "83.609",
         "213.495",
         "133.334",
         "929",
         "579",
         "NonFire",
         "1",
         "Cheyenne_Block1_20240702_1420.xlsx",
         "F",
         "Baboon",
         "Cheyenne",
         "0",
         "0",
         "40.13865280151367",
         "1370896"
        ]
       ],
       "shape": {
        "columns": 17,
        "rows": 5
       }
      },
      "text/html": [
       "<div>\n",
       "<style scoped>\n",
       "    .dataframe tbody tr th:only-of-type {\n",
       "        vertical-align: middle;\n",
       "    }\n",
       "\n",
       "    .dataframe tbody tr th {\n",
       "        vertical-align: top;\n",
       "    }\n",
       "\n",
       "    .dataframe thead th {\n",
       "        text-align: right;\n",
       "    }\n",
       "</style>\n",
       "<table border=\"1\" class=\"dataframe\">\n",
       "  <thead>\n",
       "    <tr style=\"text-align: right;\">\n",
       "      <th></th>\n",
       "      <th>Subject</th>\n",
       "      <th>Stimuli</th>\n",
       "      <th>FixStart</th>\n",
       "      <th>FixEnd</th>\n",
       "      <th>FixDur</th>\n",
       "      <th>XPos</th>\n",
       "      <th>YPos</th>\n",
       "      <th>ROI</th>\n",
       "      <th>Block</th>\n",
       "      <th>Trial</th>\n",
       "      <th>ImageType</th>\n",
       "      <th>Species</th>\n",
       "      <th>SubjectName</th>\n",
       "      <th>roi_type</th>\n",
       "      <th>roi_index</th>\n",
       "      <th>saliency</th>\n",
       "      <th>area</th>\n",
       "    </tr>\n",
       "  </thead>\n",
       "  <tbody>\n",
       "    <tr>\n",
       "      <th>0</th>\n",
       "      <td>Cheyenne_20240702_1420</td>\n",
       "      <td>FStil09.png</td>\n",
       "      <td>232.713</td>\n",
       "      <td>392.695</td>\n",
       "      <td>163.256</td>\n",
       "      <td>1527</td>\n",
       "      <td>561</td>\n",
       "      <td>NonFire</td>\n",
       "      <td>1</td>\n",
       "      <td>Cheyenne_Block1_20240702_1420.xlsx</td>\n",
       "      <td>F</td>\n",
       "      <td>Baboon</td>\n",
       "      <td>Cheyenne</td>\n",
       "      <td>1</td>\n",
       "      <td>1</td>\n",
       "      <td>52.848877</td>\n",
       "      <td>771609</td>\n",
       "    </tr>\n",
       "    <tr>\n",
       "      <th>1</th>\n",
       "      <td>Cheyenne_20240702_1420</td>\n",
       "      <td>FStil09.png</td>\n",
       "      <td>409.259</td>\n",
       "      <td>645.983</td>\n",
       "      <td>239.965</td>\n",
       "      <td>1093</td>\n",
       "      <td>378</td>\n",
       "      <td>Fire</td>\n",
       "      <td>1</td>\n",
       "      <td>Cheyenne_Block1_20240702_1420.xlsx</td>\n",
       "      <td>F</td>\n",
       "      <td>Baboon</td>\n",
       "      <td>Cheyenne</td>\n",
       "      <td>1</td>\n",
       "      <td>1</td>\n",
       "      <td>171.167404</td>\n",
       "      <td>771609</td>\n",
       "    </tr>\n",
       "    <tr>\n",
       "      <th>2</th>\n",
       "      <td>Cheyenne_20240702_1420</td>\n",
       "      <td>FStil09.png</td>\n",
       "      <td>655.942</td>\n",
       "      <td>869.192</td>\n",
       "      <td>216.689</td>\n",
       "      <td>1193</td>\n",
       "      <td>525</td>\n",
       "      <td>NonFire</td>\n",
       "      <td>1</td>\n",
       "      <td>Cheyenne_Block1_20240702_1420.xlsx</td>\n",
       "      <td>F</td>\n",
       "      <td>Baboon</td>\n",
       "      <td>Cheyenne</td>\n",
       "      <td>1</td>\n",
       "      <td>1</td>\n",
       "      <td>148.384018</td>\n",
       "      <td>771609</td>\n",
       "    </tr>\n",
       "    <tr>\n",
       "      <th>3</th>\n",
       "      <td>Cheyenne_20240702_1420</td>\n",
       "      <td>FStil09.png</td>\n",
       "      <td>899.287</td>\n",
       "      <td>1055.843</td>\n",
       "      <td>159.995</td>\n",
       "      <td>1664</td>\n",
       "      <td>123</td>\n",
       "      <td>NonFire</td>\n",
       "      <td>1</td>\n",
       "      <td>Cheyenne_Block1_20240702_1420.xlsx</td>\n",
       "      <td>F</td>\n",
       "      <td>Baboon</td>\n",
       "      <td>Cheyenne</td>\n",
       "      <td>0</td>\n",
       "      <td>0</td>\n",
       "      <td>36.488598</td>\n",
       "      <td>993632</td>\n",
       "    </tr>\n",
       "    <tr>\n",
       "      <th>4</th>\n",
       "      <td>Cheyenne_20240702_1420</td>\n",
       "      <td>FStil04.png</td>\n",
       "      <td>83.609</td>\n",
       "      <td>213.495</td>\n",
       "      <td>133.334</td>\n",
       "      <td>929</td>\n",
       "      <td>579</td>\n",
       "      <td>NonFire</td>\n",
       "      <td>1</td>\n",
       "      <td>Cheyenne_Block1_20240702_1420.xlsx</td>\n",
       "      <td>F</td>\n",
       "      <td>Baboon</td>\n",
       "      <td>Cheyenne</td>\n",
       "      <td>0</td>\n",
       "      <td>0</td>\n",
       "      <td>40.138653</td>\n",
       "      <td>1370896</td>\n",
       "    </tr>\n",
       "  </tbody>\n",
       "</table>\n",
       "</div>"
      ],
      "text/plain": [
       "                  Subject      Stimuli  FixStart    FixEnd   FixDur  XPos  \\\n",
       "0  Cheyenne_20240702_1420  FStil09.png   232.713   392.695  163.256  1527   \n",
       "1  Cheyenne_20240702_1420  FStil09.png   409.259   645.983  239.965  1093   \n",
       "2  Cheyenne_20240702_1420  FStil09.png   655.942   869.192  216.689  1193   \n",
       "3  Cheyenne_20240702_1420  FStil09.png   899.287  1055.843  159.995  1664   \n",
       "4  Cheyenne_20240702_1420  FStil04.png    83.609   213.495  133.334   929   \n",
       "\n",
       "   YPos      ROI  Block                               Trial ImageType Species  \\\n",
       "0   561  NonFire      1  Cheyenne_Block1_20240702_1420.xlsx         F  Baboon   \n",
       "1   378     Fire      1  Cheyenne_Block1_20240702_1420.xlsx         F  Baboon   \n",
       "2   525  NonFire      1  Cheyenne_Block1_20240702_1420.xlsx         F  Baboon   \n",
       "3   123  NonFire      1  Cheyenne_Block1_20240702_1420.xlsx         F  Baboon   \n",
       "4   579  NonFire      1  Cheyenne_Block1_20240702_1420.xlsx         F  Baboon   \n",
       "\n",
       "  SubjectName  roi_type  roi_index    saliency     area  \n",
       "0    Cheyenne         1          1   52.848877   771609  \n",
       "1    Cheyenne         1          1  171.167404   771609  \n",
       "2    Cheyenne         1          1  148.384018   771609  \n",
       "3    Cheyenne         0          0   36.488598   993632  \n",
       "4    Cheyenne         0          0   40.138653  1370896  "
      ]
     },
     "execution_count": 31,
     "metadata": {},
     "output_type": "execute_result"
    }
   ],
   "source": [
    "def get_base_name_images(stimuli):\n",
    "    # Always use .jpg for lookup, regardless of original extension\n",
    "    base = os.path.splitext(os.path.basename(stimuli))[0]\n",
    "    return base + \".jpg\"\n",
    "\n",
    "features = []\n",
    "\n",
    "#go through each row in eye_df and extract features\n",
    "for idx, row in eye_df.iterrows():\n",
    "    img_key = get_base_name_images(row['Stimuli'])\n",
    "    x, y = int(row['XPos']), int(row['YPos'])\n",
    "    \n",
    "    # Skip if image not found or fixation out of bounds\n",
    "    if img_key not in roi_type_dict or img_key not in saliency_dict:\n",
    "        continue\n",
    "    \n",
    "    roi_type = roi_type_dict[img_key]\n",
    "    roi_index = roi_index_dict[img_key]\n",
    "    saliency = saliency_dict[img_key]\n",
    "    \n",
    "    if y >= roi_type.shape[0] or x >= roi_type.shape[1]:\n",
    "        continue\n",
    "\n",
    "    features.append({\n",
    "        \"Subject\": row[\"Subject\"],\n",
    "        \"Stimuli\": row[\"Stimuli\"],\n",
    "        \"FixStart\": row[\"FixStart\"],\n",
    "        \"FixEnd\": row[\"FixEnd\"],\n",
    "        \"FixDur\": row[\"FixDur\"],\n",
    "        \"XPos\": x,\n",
    "        \"YPos\": y,\n",
    "        \"ROI\": row[\"ROI\"],\n",
    "        \"Block\": row[\"Block\"],\n",
    "        \"Trial\": row[\"Trial\"],\n",
    "        \"ImageType\": row[\"ImageType\"],\n",
    "        \"Species\": row[\"Species\"],\n",
    "        \"SubjectName\": row[\"SubjectName\"],\n",
    "        \"roi_type\": roi_type[y, x],\n",
    "        \"roi_index\": roi_index[y, x],\n",
    "        \"saliency\": saliency[y, x],\n",
    "        \"area\": roi_sizes[img_key].get(roi_index[y, x], 0)  # Get area size or 0 if not found\n",
    "    })\n",
    "\n",
    "fixation_features_df = pd.DataFrame(features)\n",
    "fixation_features_df.head()"
   ]
  },
  {
   "cell_type": "code",
   "execution_count": 32,
   "id": "715c4df8",
   "metadata": {},
   "outputs": [
    {
     "name": "stdout",
     "output_type": "stream",
     "text": [
      "Percent where ROI == 'Fire' and roi_type == 1: 47.50%\n",
      "Percent where ROI == 'Fire' and roi_type != 1: 52.50%\n"
     ]
    }
   ],
   "source": [
    "\n",
    "# Calculate matches and mismatches between ROI label and roi_type\n",
    "matches = fixation_features_df[(fixation_features_df[\"ROI\"] == \"Fire\") & (fixation_features_df[\"roi_type\"] == 1)]\n",
    "mismatches = fixation_features_df[(fixation_features_df[\"ROI\"] == \"Fire\") & (fixation_features_df[\"roi_type\"] != 1)]\n",
    "\n",
    "total_fire = len(fixation_features_df[fixation_features_df[\"ROI\"] == \"Fire\"])\n",
    "percent_match = len(matches) / total_fire * 100 if total_fire > 0 else 0\n",
    "percent_mismatch = len(mismatches) / total_fire * 100 if total_fire > 0 else 0\n",
    "\n",
    "print(f\"Percent where ROI == 'Fire' and roi_type == 1: {percent_match:.2f}%\")\n",
    "print(f\"Percent where ROI == 'Fire' and roi_type != 1: {percent_mismatch:.2f}%\")\n",
    "\n",
    "# Drop rows with missing values in key columns\n",
    "fixation_features_df = fixation_features_df.dropna(subset=[\"FixDur\", \"XPos\", \"YPos\", \"ROI\", \"roi_type\"])\n",
    "\n",
    "# Remove outliers in fixation duration define with Ben\n",
    "# fixation_features_df = fixation_features_df[(fixation_features_df[\"FixDur\"] >= 50) & (fixation_features_df[\"FixDur\"] <= 1000)]\n",
    "\n",
    "# Convert columns to correct types\n",
    "# fixation_features_df[\"Trial\"] = fixation_features_df[\"Trial\"].astype(int) not needed because not used in analysis\n",
    "# fixation_features_df[\"Block\"] = fixation_features_df[\"Block\"].astype(int) \n",
    "fixation_features_df[\"SubjectName\"] = fixation_features_df[\"SubjectName\"].astype(str)\n",
    "\n",
    "# Remove outliers in fixation duration\n",
    "mean_fix_dur = fixation_features_df[\"FixDur\"].mean()\n",
    "std_fix_dur = fixation_features_df[\"FixDur\"].std()\n",
    "fixation_features_df = fixation_features_df[(fixation_features_df[\"FixDur\"] >= 50) & (fixation_features_df[\"FixDur\"] <= mean_fix_dur + std_fix_dur * 3)]\n",
    "\n"
   ]
  },
  {
   "cell_type": "markdown",
   "id": "0eb75ecd",
   "metadata": {},
   "source": [
    "## 4. Logistic Regression: Predicting fire region fixations\n",
    "\n",
    "This cell shows how to use the joined DataFrame to predict whether a fixation falls on a fire region (roi_type == 1) using saliency and fixation duration as predictors."
   ]
  },
  {
   "cell_type": "code",
   "execution_count": 33,
   "id": "6ed2a684",
   "metadata": {},
   "outputs": [
    {
     "name": "stdout",
     "output_type": "stream",
     "text": [
      "Regression coefficients: [[ 1.73906807e-03  3.14007287e-03 -1.67036079e-06]]\n",
      "Odds ratios: [[1.00174058 1.00314501 0.99999833]]\n"
     ]
    }
   ],
   "source": [
    "from sklearn.linear_model import LogisticRegression\n",
    "\n",
    "# Create binary target: 1 if fire region, 0 otherwise\n",
    "fixation_features_df[\"is_fire\"] = (fixation_features_df[\"roi_type\"] == 1).astype(int)\n",
    "X = fixation_features_df[[\"saliency\", \"FixDur\", \"area\"]]\n",
    "y = fixation_features_df[\"is_fire\"]\n",
    "\n",
    "model = LogisticRegression()\n",
    "model.fit(X, y)\n",
    "\n",
    "print(\"Regression coefficients:\", model.coef_)\n",
    "print(\"Odds ratios:\", np.exp(model.coef_))"
   ]
  },
  {
   "cell_type": "markdown",
   "id": "73bf3c5c",
   "metadata": {},
   "source": [
    "## 5. Machine Learning Logistic Regression\n",
    "\n",
    "In this cell, we apply a machine learning approach using logistic regression to predict whether a fixation falls on a fire region (roi_type == 1) based on saliency and fixation duration. The data is split into training and test sets to evaluate the model's predictive accuracy on unseen data."
   ]
  },
  {
   "cell_type": "code",
   "execution_count": 34,
   "id": "0267a433",
   "metadata": {},
   "outputs": [
    {
     "name": "stdout",
     "output_type": "stream",
     "text": [
      "Mean accuracy across subjects: 0.6522277999501281\n"
     ]
    }
   ],
   "source": [
    "from sklearn.model_selection import LeaveOneGroupOut, cross_val_score\n",
    "from sklearn.preprocessing import StandardScaler\n",
    "from sklearn.pipeline import Pipeline\n",
    "from sklearn.linear_model import LogisticRegression\n",
    "\n",
    "# Features and target\n",
    "X = fixation_features_df[[\"saliency\", \"FixDur\", \"area\"]]\n",
    "y = fixation_features_df[\"is_fire\"]\n",
    "groups = fixation_features_df[\"SubjectName\"]\n",
    "\n",
    "# Pipeline with scaling + logistic regression\n",
    "pipe = Pipeline([\n",
    "    (\"scaler\", StandardScaler()),\n",
    "    (\"clf\", LogisticRegression(max_iter=10000, random_state=0))\n",
    "])\n",
    "\n",
    "# Leave-One-Subject-Out CV\n",
    "logo = LeaveOneGroupOut()\n",
    "scores = cross_val_score(pipe, X, y, cv=logo, groups=groups, scoring=\"accuracy\")\n",
    "\n",
    "print(\"Mean accuracy across subjects:\", scores.mean())\n"
   ]
  },
  {
   "cell_type": "markdown",
   "id": "dd2f6eae",
   "metadata": {},
   "source": [
    "## 6. OLS Regression Predicting Fixation Duration\n",
    "\n",
    "In this cell, we predict fixation duration from saliency, area, and if its fire or not"
   ]
  },
  {
   "cell_type": "code",
   "execution_count": 35,
   "id": "46762b49",
   "metadata": {},
   "outputs": [
    {
     "name": "stdout",
     "output_type": "stream",
     "text": [
      "                            OLS Regression Results                            \n",
      "==============================================================================\n",
      "Dep. Variable:                 FixDur   R-squared:                       0.002\n",
      "Model:                            OLS   Adj. R-squared:                  0.002\n",
      "Method:                 Least Squares   F-statistic:                     8.299\n",
      "Date:                Fri, 29 Aug 2025   Prob (F-statistic):           1.64e-05\n",
      "Time:                        17:43:43   Log-Likelihood:                -76678.\n",
      "No. Observations:               12243   AIC:                         1.534e+05\n",
      "Df Residuals:                   12239   BIC:                         1.534e+05\n",
      "Df Model:                           3                                         \n",
      "Covariance Type:            nonrobust                                         \n",
      "==============================================================================\n",
      "                 coef    std err          t      P>|t|      [0.025      0.975]\n",
      "------------------------------------------------------------------------------\n",
      "const        234.2469      3.461     67.675      0.000     227.462     241.032\n",
      "saliency       0.1029      0.022      4.620      0.000       0.059       0.146\n",
      "area       -9.565e-07   2.46e-06     -0.389      0.697   -5.77e-06    3.86e-06\n",
      "is_fire        1.1642      2.648      0.440      0.660      -4.027       6.355\n",
      "==============================================================================\n",
      "Omnibus:                     3635.639   Durbin-Watson:                   1.724\n",
      "Prob(Omnibus):                  0.000   Jarque-Bera (JB):            10257.658\n",
      "Skew:                           1.576   Prob(JB):                         0.00\n",
      "Kurtosis:                       6.190   Cond. No.                     3.40e+06\n",
      "==============================================================================\n",
      "\n",
      "Notes:\n",
      "[1] Standard Errors assume that the covariance matrix of the errors is correctly specified.\n",
      "[2] The condition number is large, 3.4e+06. This might indicate that there are\n",
      "strong multicollinearity or other numerical problems.\n"
     ]
    }
   ],
   "source": [
    "import statsmodels.api as sm\n",
    "\n",
    "# Predict FixDur using saliency, area, and whether the fixation is on fire\n",
    "X = fixation_features_df[[\"saliency\", \"area\", \"is_fire\"]]\n",
    "X = sm.add_constant(X)  # Adds intercept\n",
    "y = fixation_features_df[\"FixDur\"]\n",
    "\n",
    "model = sm.OLS(y, X)\n",
    "result = model.fit()\n",
    "print(result.summary())"
   ]
  },
  {
   "cell_type": "markdown",
   "id": "0d36ac72",
   "metadata": {},
   "source": [
    "## 7. Linear mixed-effects model (LLM)\n",
    "\n",
    "In this cell, we predict fixation duration from saliency, area, and if its fire or not while accounting for within-subject variability. "
   ]
  },
  {
   "cell_type": "code",
   "execution_count": 36,
   "id": "66b0f2ce",
   "metadata": {},
   "outputs": [
    {
     "name": "stdout",
     "output_type": "stream",
     "text": [
      "            Mixed Linear Model Regression Results\n",
      "==============================================================\n",
      "Model:               MixedLM  Dependent Variable:  FixDur     \n",
      "No. Observations:    12243    Method:              REML       \n",
      "No. Groups:          11       Scale:               14283.4505 \n",
      "Min. group size:     695      Log-Likelihood:      -75953.8370\n",
      "Max. group size:     1820     Converged:           Yes        \n",
      "Mean group size:     1113.0                                   \n",
      "--------------------------------------------------------------\n",
      "                 Coef.   Std.Err.   z    P>|z|  [0.025  0.975]\n",
      "--------------------------------------------------------------\n",
      "Intercept        253.668   13.700 18.516 0.000 226.817 280.519\n",
      "saliency_scaled    7.911    1.120  7.061 0.000   5.716  10.107\n",
      "area_scaled        1.176    1.216  0.967 0.334  -1.208   3.560\n",
      "is_fire           -3.491    2.497 -1.398 0.162  -8.386   1.404\n",
      "Group Var       2038.278    7.655                             \n",
      "==============================================================\n",
      "\n"
     ]
    }
   ],
   "source": [
    "import statsmodels.formula.api as smf\n",
    "\n",
    "from sklearn.preprocessing import StandardScaler\n",
    "\n",
    "scaler = StandardScaler() \n",
    "#this is to z-score the saliency and area we get issues because they are on different scales\n",
    "fixation_features_df[[\"saliency_scaled\", \"area_scaled\"]] = scaler.fit_transform(fixation_features_df[[\"saliency\", \"area\"]])\n",
    "# Mixed-effects linear regression: FixDur ~ saliency + area + is_fire + (1|Subject)\n",
    "model = smf.mixedlm(\n",
    "    \"FixDur ~ saliency_scaled + area_scaled + is_fire\",\n",
    "    fixation_features_df,\n",
    "    groups=fixation_features_df[\"SubjectName\"]\n",
    ")\n",
    "result = model.fit()\n",
    "print(result.summary())"
   ]
  },
  {
   "cell_type": "markdown",
   "id": "ec9ec8f0",
   "metadata": {},
   "source": [
    "I found this online but I don't feel its that helpful."
   ]
  },
  {
   "cell_type": "code",
   "execution_count": 37,
   "id": "0c6618bd",
   "metadata": {},
   "outputs": [
    {
     "name": "stdout",
     "output_type": "stream",
     "text": [
      "R^2 on test: -0.07718922997022681\n"
     ]
    }
   ],
   "source": [
    "from sklearn.model_selection import train_test_split, cross_val_score\n",
    "from sklearn.ensemble import RandomForestRegressor\n",
    "from sklearn.preprocessing import StandardScaler, OneHotEncoder\n",
    "from sklearn.compose import ColumnTransformer\n",
    "from sklearn.pipeline import Pipeline\n",
    "\n",
    "# Features: saliency, area, is_fire, subject\n",
    "X = fixation_features_df[[\"saliency\", \"area\", \"is_fire\", \"SubjectName\"]]\n",
    "y = fixation_features_df[\"FixDur\"]\n",
    "\n",
    "# Preprocess: scale continuous, one-hot encode categorical\n",
    "preprocess = ColumnTransformer(\n",
    "    transformers=[\n",
    "        (\"num\", StandardScaler(), [\"saliency\", \"area\"]),\n",
    "        (\"cat\", OneHotEncoder(drop=\"first\"), [\"SubjectName\"])\n",
    "    ]\n",
    ")\n",
    "\n",
    "# Model: Random Forest\n",
    "model = Pipeline(steps=[\n",
    "    (\"preprocess\", preprocess),\n",
    "    (\"rf\", RandomForestRegressor(n_estimators=200, random_state=42))\n",
    "])\n",
    "\n",
    "# Train/test split\n",
    "X_train, X_test, y_train, y_test = train_test_split(X, y, test_size=0.2, random_state=42)\n",
    "model.fit(X_train, y_train)\n",
    "\n",
    "print(\"R^2 on test:\", model.score(X_test, y_test))\n"
   ]
  }
 ],
 "metadata": {
  "kernelspec": {
   "display_name": ".venv (3.8.0)",
   "language": "python",
   "name": "python3"
  },
  "language_info": {
   "codemirror_mode": {
    "name": "ipython",
    "version": 3
   },
   "file_extension": ".py",
   "mimetype": "text/x-python",
   "name": "python",
   "nbconvert_exporter": "python",
   "pygments_lexer": "ipython3",
   "version": "3.8.0"
  }
 },
 "nbformat": 4,
 "nbformat_minor": 5
}
