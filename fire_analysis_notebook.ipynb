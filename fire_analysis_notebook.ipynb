{
 "cells": [
  {
   "cell_type": "markdown",
   "id": "82a26c53",
   "metadata": {},
   "source": [
    "# Fire analysis script\n",
    "The goal of this script is to complete a regression where region of interest type, saliency, and other features are used to predict fixation behavior."
   ]
  },
  {
   "cell_type": "markdown",
   "id": "4928da49",
   "metadata": {},
   "source": [
    "## 1. Load eye movement data\n",
    "\n",
    "This cell loads your raw eye movement data from a CSV file."
   ]
  },
  {
   "cell_type": "code",
   "execution_count": 1,
   "id": "e2a18ac4",
   "metadata": {},
   "outputs": [],
   "source": [
    "import pandas as pd\n",
    "\n",
    "eye_df = pd.read_csv(\"RawData_AllAnimals.csv\")\n",
    "eye_df.head()\n",
    "\n",
    "#remove rows where ROI is \"OffScreen\"\n",
    "eye_df = eye_df[eye_df['ROI'] != \"OffScreen\"]\n",
    "eye_df = eye_df[eye_df['ImageType'] == \"F\"]"
   ]
  },
  {
   "cell_type": "markdown",
   "id": "b00d5c6c",
   "metadata": {},
   "source": [
    "## 2. Load ROI masks and saliency maps\n",
    "\n",
    "This cell loads all ROI type/index masks and saliency maps into dictionaries for fast lookup by image name."
   ]
  },
  {
   "cell_type": "code",
   "execution_count": 9,
   "id": "615b964b",
   "metadata": {},
   "outputs": [],
   "source": [
    "import numpy as np\n",
    "import os\n",
    "\n",
    "# Helper to get base image name from Stimuli column\n",
    "def get_base_name(stimuli):\n",
    "    return os.path.splitext(os.path.basename(stimuli))[0]\n",
    "\n",
    "# Load ROI masks\n",
    "roi_type_dict = {}\n",
    "roi_index_dict = {}\n",
    "\n",
    "csv_names = os.listdir(\"csv_output\")\n",
    "csv_names.remove(\"mean_saliency.csv\")  # Exclude mean_saliency if present\n",
    "\n",
    "\n",
    "for fname in os.listdir(\"contour_masks\"):\n",
    "    if \"roi_type\" in fname:\n",
    "        key = fname.split(\"_roi_type\")[0]\n",
    "        roi_type_dict[key] = np.load(os.path.join(\"contour_masks\", fname))\n",
    "    elif \"roi_index\" in fname:\n",
    "        key = fname.split(\"_roi_index\")[0]\n",
    "        roi_index_dict[key] = np.load(os.path.join(\"contour_masks\", fname))\n",
    "\n",
    "# Load saliency maps robustly\n",
    "saliency_dict = {}\n",
    "for fname in csv_names:\n",
    "    if fname.endswith(\"_saliency.csv\"):\n",
    "        key = fname.split(\"_saliency\")[0]\n",
    "        # Try reading as CSV, skip header if present\n",
    "        try:\n",
    "            arr = np.loadtxt(os.path.join(\"csv_output\", fname), delimiter=',')\n",
    "        except Exception:\n",
    "            arr = pd.read_csv(os.path.join(\"csv_output\", fname), header=None).values\n",
    "        saliency_dict[key] = arr"
   ]
  },
  {
   "cell_type": "markdown",
   "id": "0a52e077",
   "metadata": {},
   "source": [
    "## 3. Join eye movement data with image features\n",
    "\n",
    "This cell creates a new DataFrame where each fixation is enriched with ROI type, ROI index, and saliency at the fixation location."
   ]
  },
  {
   "cell_type": "code",
   "execution_count": 11,
   "id": "5cb36c44",
   "metadata": {},
   "outputs": [
    {
     "data": {
      "application/vnd.microsoft.datawrangler.viewer.v0+json": {
       "columns": [
        {
         "name": "index",
         "rawType": "int64",
         "type": "integer"
        },
        {
         "name": "Subject",
         "rawType": "object",
         "type": "string"
        },
        {
         "name": "Stimuli",
         "rawType": "object",
         "type": "string"
        },
        {
         "name": "FixStart",
         "rawType": "float64",
         "type": "float"
        },
        {
         "name": "FixEnd",
         "rawType": "float64",
         "type": "float"
        },
        {
         "name": "FixDur",
         "rawType": "float64",
         "type": "float"
        },
        {
         "name": "XPos",
         "rawType": "int64",
         "type": "integer"
        },
        {
         "name": "YPos",
         "rawType": "int64",
         "type": "integer"
        },
        {
         "name": "ROI",
         "rawType": "object",
         "type": "string"
        },
        {
         "name": "Block",
         "rawType": "int64",
         "type": "integer"
        },
        {
         "name": "Trial",
         "rawType": "object",
         "type": "string"
        },
        {
         "name": "ImageType",
         "rawType": "object",
         "type": "string"
        },
        {
         "name": "Species",
         "rawType": "object",
         "type": "string"
        },
        {
         "name": "SubjectName",
         "rawType": "object",
         "type": "string"
        },
        {
         "name": "roi_type",
         "rawType": "int8",
         "type": "integer"
        },
        {
         "name": "roi_index",
         "rawType": "int16",
         "type": "integer"
        },
        {
         "name": "saliency",
         "rawType": "float64",
         "type": "float"
        }
       ],
       "ref": "8885754c-eb1e-4733-b8d2-eb5531b67b8c",
       "rows": [
        [
         "0",
         "Cheyenne_20240702_1420",
         "FStil09.png",
         "232.713",
         "392.695",
         "163.256",
         "1527",
         "561",
         "NonFire",
         "1",
         "Cheyenne_Block1_20240702_1420.xlsx",
         "F",
         "Baboon",
         "Cheyenne",
         "1",
         "1",
         "52.848876953125"
        ],
        [
         "1",
         "Cheyenne_20240702_1420",
         "FStil09.png",
         "409.259",
         "645.983",
         "239.965",
         "1093",
         "378",
         "Fire",
         "1",
         "Cheyenne_Block1_20240702_1420.xlsx",
         "F",
         "Baboon",
         "Cheyenne",
         "1",
         "1",
         "171.1674041748047"
        ],
        [
         "2",
         "Cheyenne_20240702_1420",
         "FStil09.png",
         "655.942",
         "869.192",
         "216.689",
         "1193",
         "525",
         "NonFire",
         "1",
         "Cheyenne_Block1_20240702_1420.xlsx",
         "F",
         "Baboon",
         "Cheyenne",
         "1",
         "1",
         "148.38401794433594"
        ],
        [
         "3",
         "Cheyenne_20240702_1420",
         "FStil09.png",
         "899.287",
         "1055.843",
         "159.995",
         "1664",
         "123",
         "NonFire",
         "1",
         "Cheyenne_Block1_20240702_1420.xlsx",
         "F",
         "Baboon",
         "Cheyenne",
         "0",
         "0",
         "36.48859786987305"
        ],
        [
         "4",
         "Cheyenne_20240702_1420",
         "FStil04.png",
         "83.609",
         "213.495",
         "133.334",
         "929",
         "579",
         "NonFire",
         "1",
         "Cheyenne_Block1_20240702_1420.xlsx",
         "F",
         "Baboon",
         "Cheyenne",
         "0",
         "0",
         "40.13865280151367"
        ]
       ],
       "shape": {
        "columns": 16,
        "rows": 5
       }
      },
      "text/html": [
       "<div>\n",
       "<style scoped>\n",
       "    .dataframe tbody tr th:only-of-type {\n",
       "        vertical-align: middle;\n",
       "    }\n",
       "\n",
       "    .dataframe tbody tr th {\n",
       "        vertical-align: top;\n",
       "    }\n",
       "\n",
       "    .dataframe thead th {\n",
       "        text-align: right;\n",
       "    }\n",
       "</style>\n",
       "<table border=\"1\" class=\"dataframe\">\n",
       "  <thead>\n",
       "    <tr style=\"text-align: right;\">\n",
       "      <th></th>\n",
       "      <th>Subject</th>\n",
       "      <th>Stimuli</th>\n",
       "      <th>FixStart</th>\n",
       "      <th>FixEnd</th>\n",
       "      <th>FixDur</th>\n",
       "      <th>XPos</th>\n",
       "      <th>YPos</th>\n",
       "      <th>ROI</th>\n",
       "      <th>Block</th>\n",
       "      <th>Trial</th>\n",
       "      <th>ImageType</th>\n",
       "      <th>Species</th>\n",
       "      <th>SubjectName</th>\n",
       "      <th>roi_type</th>\n",
       "      <th>roi_index</th>\n",
       "      <th>saliency</th>\n",
       "    </tr>\n",
       "  </thead>\n",
       "  <tbody>\n",
       "    <tr>\n",
       "      <th>0</th>\n",
       "      <td>Cheyenne_20240702_1420</td>\n",
       "      <td>FStil09.png</td>\n",
       "      <td>232.713</td>\n",
       "      <td>392.695</td>\n",
       "      <td>163.256</td>\n",
       "      <td>1527</td>\n",
       "      <td>561</td>\n",
       "      <td>NonFire</td>\n",
       "      <td>1</td>\n",
       "      <td>Cheyenne_Block1_20240702_1420.xlsx</td>\n",
       "      <td>F</td>\n",
       "      <td>Baboon</td>\n",
       "      <td>Cheyenne</td>\n",
       "      <td>1</td>\n",
       "      <td>1</td>\n",
       "      <td>52.848877</td>\n",
       "    </tr>\n",
       "    <tr>\n",
       "      <th>1</th>\n",
       "      <td>Cheyenne_20240702_1420</td>\n",
       "      <td>FStil09.png</td>\n",
       "      <td>409.259</td>\n",
       "      <td>645.983</td>\n",
       "      <td>239.965</td>\n",
       "      <td>1093</td>\n",
       "      <td>378</td>\n",
       "      <td>Fire</td>\n",
       "      <td>1</td>\n",
       "      <td>Cheyenne_Block1_20240702_1420.xlsx</td>\n",
       "      <td>F</td>\n",
       "      <td>Baboon</td>\n",
       "      <td>Cheyenne</td>\n",
       "      <td>1</td>\n",
       "      <td>1</td>\n",
       "      <td>171.167404</td>\n",
       "    </tr>\n",
       "    <tr>\n",
       "      <th>2</th>\n",
       "      <td>Cheyenne_20240702_1420</td>\n",
       "      <td>FStil09.png</td>\n",
       "      <td>655.942</td>\n",
       "      <td>869.192</td>\n",
       "      <td>216.689</td>\n",
       "      <td>1193</td>\n",
       "      <td>525</td>\n",
       "      <td>NonFire</td>\n",
       "      <td>1</td>\n",
       "      <td>Cheyenne_Block1_20240702_1420.xlsx</td>\n",
       "      <td>F</td>\n",
       "      <td>Baboon</td>\n",
       "      <td>Cheyenne</td>\n",
       "      <td>1</td>\n",
       "      <td>1</td>\n",
       "      <td>148.384018</td>\n",
       "    </tr>\n",
       "    <tr>\n",
       "      <th>3</th>\n",
       "      <td>Cheyenne_20240702_1420</td>\n",
       "      <td>FStil09.png</td>\n",
       "      <td>899.287</td>\n",
       "      <td>1055.843</td>\n",
       "      <td>159.995</td>\n",
       "      <td>1664</td>\n",
       "      <td>123</td>\n",
       "      <td>NonFire</td>\n",
       "      <td>1</td>\n",
       "      <td>Cheyenne_Block1_20240702_1420.xlsx</td>\n",
       "      <td>F</td>\n",
       "      <td>Baboon</td>\n",
       "      <td>Cheyenne</td>\n",
       "      <td>0</td>\n",
       "      <td>0</td>\n",
       "      <td>36.488598</td>\n",
       "    </tr>\n",
       "    <tr>\n",
       "      <th>4</th>\n",
       "      <td>Cheyenne_20240702_1420</td>\n",
       "      <td>FStil04.png</td>\n",
       "      <td>83.609</td>\n",
       "      <td>213.495</td>\n",
       "      <td>133.334</td>\n",
       "      <td>929</td>\n",
       "      <td>579</td>\n",
       "      <td>NonFire</td>\n",
       "      <td>1</td>\n",
       "      <td>Cheyenne_Block1_20240702_1420.xlsx</td>\n",
       "      <td>F</td>\n",
       "      <td>Baboon</td>\n",
       "      <td>Cheyenne</td>\n",
       "      <td>0</td>\n",
       "      <td>0</td>\n",
       "      <td>40.138653</td>\n",
       "    </tr>\n",
       "  </tbody>\n",
       "</table>\n",
       "</div>"
      ],
      "text/plain": [
       "                  Subject      Stimuli  FixStart    FixEnd   FixDur  XPos  \\\n",
       "0  Cheyenne_20240702_1420  FStil09.png   232.713   392.695  163.256  1527   \n",
       "1  Cheyenne_20240702_1420  FStil09.png   409.259   645.983  239.965  1093   \n",
       "2  Cheyenne_20240702_1420  FStil09.png   655.942   869.192  216.689  1193   \n",
       "3  Cheyenne_20240702_1420  FStil09.png   899.287  1055.843  159.995  1664   \n",
       "4  Cheyenne_20240702_1420  FStil04.png    83.609   213.495  133.334   929   \n",
       "\n",
       "   YPos      ROI  Block                               Trial ImageType Species  \\\n",
       "0   561  NonFire      1  Cheyenne_Block1_20240702_1420.xlsx         F  Baboon   \n",
       "1   378     Fire      1  Cheyenne_Block1_20240702_1420.xlsx         F  Baboon   \n",
       "2   525  NonFire      1  Cheyenne_Block1_20240702_1420.xlsx         F  Baboon   \n",
       "3   123  NonFire      1  Cheyenne_Block1_20240702_1420.xlsx         F  Baboon   \n",
       "4   579  NonFire      1  Cheyenne_Block1_20240702_1420.xlsx         F  Baboon   \n",
       "\n",
       "  SubjectName  roi_type  roi_index    saliency  \n",
       "0    Cheyenne         1          1   52.848877  \n",
       "1    Cheyenne         1          1  171.167404  \n",
       "2    Cheyenne         1          1  148.384018  \n",
       "3    Cheyenne         0          0   36.488598  \n",
       "4    Cheyenne         0          0   40.138653  "
      ]
     },
     "execution_count": 11,
     "metadata": {},
     "output_type": "execute_result"
    }
   ],
   "source": [
    "def get_base_name_images(stimuli):\n",
    "    # Always use .jpg for lookup, regardless of original extension\n",
    "    base = os.path.splitext(os.path.basename(stimuli))[0]\n",
    "    return base + \".jpg\"\n",
    "\n",
    "features = []\n",
    "\n",
    "for idx, row in eye_df.iterrows():\n",
    "    img_key = get_base_name_images(row['Stimuli'])\n",
    "    x, y = int(row['XPos']), int(row['YPos'])\n",
    "    \n",
    "    # Skip if image not found or fixation out of bounds\n",
    "    if img_key not in roi_type_dict or img_key not in saliency_dict:\n",
    "        continue\n",
    "    roi_type = roi_type_dict[img_key]\n",
    "    roi_index = roi_index_dict[img_key]\n",
    "    saliency = saliency_dict[img_key]\n",
    "    if y >= roi_type.shape[0] or x >= roi_type.shape[1]:\n",
    "        continue\n",
    "\n",
    "    features.append({\n",
    "        \"Subject\": row[\"Subject\"],\n",
    "        \"Stimuli\": row[\"Stimuli\"],\n",
    "        \"FixStart\": row[\"FixStart\"],\n",
    "        \"FixEnd\": row[\"FixEnd\"],\n",
    "        \"FixDur\": row[\"FixDur\"],\n",
    "        \"XPos\": x,\n",
    "        \"YPos\": y,\n",
    "        \"ROI\": row[\"ROI\"],\n",
    "        \"Block\": row[\"Block\"],\n",
    "        \"Trial\": row[\"Trial\"],\n",
    "        \"ImageType\": row[\"ImageType\"],\n",
    "        \"Species\": row[\"Species\"],\n",
    "        \"SubjectName\": row[\"SubjectName\"],\n",
    "        \"roi_type\": roi_type[y, x],\n",
    "        \"roi_index\": roi_index[y, x],\n",
    "        \"saliency\": saliency[y, x]\n",
    "    })\n",
    "\n",
    "fixation_features_df = pd.DataFrame(features)\n",
    "fixation_features_df.head()"
   ]
  },
  {
   "cell_type": "markdown",
   "id": "0eb75ecd",
   "metadata": {},
   "source": [
    "## 4. Example regression: Predicting fire region fixations\n",
    "\n",
    "This cell shows how to use the joined DataFrame to predict whether a fixation falls on a fire region (roi_type == 1) using saliency and fixation duration as predictors."
   ]
  },
  {
   "cell_type": "code",
   "execution_count": 12,
   "id": "6ed2a684",
   "metadata": {},
   "outputs": [
    {
     "name": "stdout",
     "output_type": "stream",
     "text": [
      "Regression coefficients: [[0.00765384 0.00020156]]\n",
      "Odds ratios: [[1.0076832  1.00020158]]\n"
     ]
    }
   ],
   "source": [
    "from sklearn.linear_model import LogisticRegression\n",
    "\n",
    "# Create binary target: 1 if fire region, 0 otherwise\n",
    "fixation_features_df[\"is_fire\"] = (fixation_features_df[\"roi_type\"] == 1).astype(int)\n",
    "X = fixation_features_df[[\"saliency\", \"FixDur\"]]\n",
    "y = fixation_features_df[\"is_fire\"]\n",
    "\n",
    "model = LogisticRegression()\n",
    "model.fit(X, y)\n",
    "\n",
    "print(\"Regression coefficients:\", model.coef_)\n",
    "print(\"Odds ratios:\", np.exp(model.coef_))"
   ]
  }
 ],
 "metadata": {
  "kernelspec": {
   "display_name": ".venv",
   "language": "python",
   "name": "python3"
  },
  "language_info": {
   "codemirror_mode": {
    "name": "ipython",
    "version": 3
   },
   "file_extension": ".py",
   "mimetype": "text/x-python",
   "name": "python",
   "nbconvert_exporter": "python",
   "pygments_lexer": "ipython3",
   "version": "3.8.0"
  }
 },
 "nbformat": 4,
 "nbformat_minor": 5
}
