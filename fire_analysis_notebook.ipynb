{
 "cells": [
  {
   "cell_type": "markdown",
   "id": "82a26c53",
   "metadata": {},
   "source": [
    "# Fire analysis script\n",
    "The goal of this script is to complete a regression where region of interest type, saliency, and other features are used to predict fixation behavior."
   ]
  },
  {
   "cell_type": "markdown",
   "id": "4928da49",
   "metadata": {},
   "source": [
    "## 1. Load eye movement data\n",
    "\n",
    "This cell loads the monkey's raw eye movement data from a CSV file."
   ]
  },
  {
   "cell_type": "code",
   "execution_count": 4,
   "id": "e2a18ac4",
   "metadata": {},
   "outputs": [],
   "source": [
    "import pandas as pd\n",
    "\n",
    "eye_df = pd.read_csv(\"RawData_AllAnimals.csv\")\n",
    "eye_df.head()\n",
    "\n",
    "#remove rows where ROI is \"OffScreen\"\n",
    "eye_df = eye_df[eye_df['ROI'] != \"OffScreen\"]\n",
    "eye_df = eye_df[eye_df['ImageType'] == \"F\"]"
   ]
  },
  {
   "cell_type": "markdown",
   "id": "b00d5c6c",
   "metadata": {},
   "source": [
    "## 2. Load ROI masks and saliency maps\n",
    "\n",
    "This cell loads all ROI type/index masks and saliency maps into dictionaries for fast lookup by image name."
   ]
  },
  {
   "cell_type": "code",
   "execution_count": 5,
   "id": "615b964b",
   "metadata": {},
   "outputs": [
    {
     "name": "stdout",
     "output_type": "stream",
     "text": [
      "ROI sizes for FStil13.jpg: {0: 1104669, 1: 547130, 2: 96792, 3: 74166, 4: 33920, 5: 20874, 6: 63486, 7: 43979, 8: 32607, 9: 28316, 10: 27661}\n"
     ]
    }
   ],
   "source": [
    "import numpy as np\n",
    "import os\n",
    "\n",
    "# Helper to get base image name from Stimuli column\n",
    "def get_base_name(stimuli):\n",
    "    return os.path.splitext(os.path.basename(stimuli))[0]\n",
    "\n",
    "# Load ROI masks\n",
    "roi_type_dict = {}\n",
    "roi_index_dict = {}\n",
    "\n",
    "csv_names = os.listdir(\"csv_output\")\n",
    "csv_names.remove(\"mean_saliency.csv\")  # Exclude mean_saliency if present\n",
    "\n",
    "\n",
    "for fname in os.listdir(\"contour_masks\"):\n",
    "    if \"roi_type\" in fname:\n",
    "        key = fname.split(\"_roi_type\")[0]\n",
    "        roi_type_dict[key] = np.load(os.path.join(\"contour_masks\", fname))\n",
    "    elif \"roi_index\" in fname:\n",
    "        key = fname.split(\"_roi_index\")[0]\n",
    "        roi_index_dict[key] = np.load(os.path.join(\"contour_masks\", fname))\n",
    "\n",
    "# Calculate the size (number of pixels) of each ROI in each image\n",
    "\n",
    "roi_sizes = {}\n",
    "\n",
    "for img_name, roi_index_mask in roi_index_dict.items():\n",
    "    unique, counts = np.unique(roi_index_mask, return_counts=True)\n",
    "    roi_sizes[img_name] = dict(zip(unique, counts))\n",
    "\n",
    "# Example: print ROI sizes for the first image\n",
    "first_img = list(roi_sizes.keys())[0]\n",
    "print(f\"ROI sizes for {first_img}: {roi_sizes[first_img]}\")\n",
    "\n",
    "# Load saliency maps robustly\n",
    "saliency_dict = {}\n",
    "for fname in csv_names:\n",
    "    if fname.endswith(\"_saliency.csv\"):\n",
    "        key = fname.split(\"_saliency\")[0]\n",
    "        # Try reading as CSV, skip header if present\n",
    "        try:\n",
    "            arr = np.loadtxt(os.path.join(\"csv_output\", fname), delimiter=',')\n",
    "        except Exception:\n",
    "            arr = pd.read_csv(os.path.join(\"csv_output\", fname), header=None).values\n",
    "        saliency_dict[key] = arr\n",
    "\n"
   ]
  },
  {
   "cell_type": "markdown",
   "id": "0a52e077",
   "metadata": {},
   "source": [
    "## 3. Join eye movement data with image features\n",
    "\n",
    "This cell creates a new DataFrame where each fixation is enriched with ROI type, ROI index, and saliency at the fixation location."
   ]
  },
  {
   "cell_type": "code",
   "execution_count": 6,
   "id": "5cb36c44",
   "metadata": {},
   "outputs": [
    {
     "data": {
      "application/vnd.microsoft.datawrangler.viewer.v0+json": {
       "columns": [
        {
         "name": "index",
         "rawType": "int64",
         "type": "integer"
        },
        {
         "name": "Subject",
         "rawType": "object",
         "type": "string"
        },
        {
         "name": "Stimuli",
         "rawType": "object",
         "type": "string"
        },
        {
         "name": "FixStart",
         "rawType": "float64",
         "type": "float"
        },
        {
         "name": "FixEnd",
         "rawType": "float64",
         "type": "float"
        },
        {
         "name": "FixDur",
         "rawType": "float64",
         "type": "float"
        },
        {
         "name": "XPos",
         "rawType": "int64",
         "type": "integer"
        },
        {
         "name": "YPos",
         "rawType": "int64",
         "type": "integer"
        },
        {
         "name": "ROI",
         "rawType": "object",
         "type": "string"
        },
        {
         "name": "Block",
         "rawType": "int64",
         "type": "integer"
        },
        {
         "name": "Trial",
         "rawType": "object",
         "type": "string"
        },
        {
         "name": "ImageType",
         "rawType": "object",
         "type": "string"
        },
        {
         "name": "Species",
         "rawType": "object",
         "type": "string"
        },
        {
         "name": "SubjectName",
         "rawType": "object",
         "type": "string"
        },
        {
         "name": "roi_type",
         "rawType": "int8",
         "type": "integer"
        },
        {
         "name": "roi_index",
         "rawType": "int16",
         "type": "integer"
        },
        {
         "name": "saliency",
         "rawType": "float64",
         "type": "float"
        },
        {
         "name": "area",
         "rawType": "int64",
         "type": "integer"
        }
       ],
       "ref": "097fc9da-b619-4a0b-a29c-ab948ae33150",
       "rows": [
        [
         "0",
         "Cheyenne_20240702_1420",
         "FStil09.png",
         "232.713",
         "392.695",
         "163.256",
         "1527",
         "561",
         "NonFire",
         "1",
         "Cheyenne_Block1_20240702_1420.xlsx",
         "F",
         "Baboon",
         "Cheyenne",
         "1",
         "1",
         "52.848876953125",
         "771609"
        ],
        [
         "1",
         "Cheyenne_20240702_1420",
         "FStil09.png",
         "409.259",
         "645.983",
         "239.965",
         "1093",
         "378",
         "Fire",
         "1",
         "Cheyenne_Block1_20240702_1420.xlsx",
         "F",
         "Baboon",
         "Cheyenne",
         "1",
         "1",
         "171.1674041748047",
         "771609"
        ],
        [
         "2",
         "Cheyenne_20240702_1420",
         "FStil09.png",
         "655.942",
         "869.192",
         "216.689",
         "1193",
         "525",
         "NonFire",
         "1",
         "Cheyenne_Block1_20240702_1420.xlsx",
         "F",
         "Baboon",
         "Cheyenne",
         "1",
         "1",
         "148.38401794433594",
         "771609"
        ],
        [
         "3",
         "Cheyenne_20240702_1420",
         "FStil09.png",
         "899.287",
         "1055.843",
         "159.995",
         "1664",
         "123",
         "NonFire",
         "1",
         "Cheyenne_Block1_20240702_1420.xlsx",
         "F",
         "Baboon",
         "Cheyenne",
         "0",
         "0",
         "36.48859786987305",
         "993632"
        ],
        [
         "4",
         "Cheyenne_20240702_1420",
         "FStil04.png",
         "83.609",
         "213.495",
         "133.334",
         "929",
         "579",
         "NonFire",
         "1",
         "Cheyenne_Block1_20240702_1420.xlsx",
         "F",
         "Baboon",
         "Cheyenne",
         "0",
         "0",
         "40.13865280151367",
         "1370896"
        ]
       ],
       "shape": {
        "columns": 17,
        "rows": 5
       }
      },
      "text/html": [
       "<div>\n",
       "<style scoped>\n",
       "    .dataframe tbody tr th:only-of-type {\n",
       "        vertical-align: middle;\n",
       "    }\n",
       "\n",
       "    .dataframe tbody tr th {\n",
       "        vertical-align: top;\n",
       "    }\n",
       "\n",
       "    .dataframe thead th {\n",
       "        text-align: right;\n",
       "    }\n",
       "</style>\n",
       "<table border=\"1\" class=\"dataframe\">\n",
       "  <thead>\n",
       "    <tr style=\"text-align: right;\">\n",
       "      <th></th>\n",
       "      <th>Subject</th>\n",
       "      <th>Stimuli</th>\n",
       "      <th>FixStart</th>\n",
       "      <th>FixEnd</th>\n",
       "      <th>FixDur</th>\n",
       "      <th>XPos</th>\n",
       "      <th>YPos</th>\n",
       "      <th>ROI</th>\n",
       "      <th>Block</th>\n",
       "      <th>Trial</th>\n",
       "      <th>ImageType</th>\n",
       "      <th>Species</th>\n",
       "      <th>SubjectName</th>\n",
       "      <th>roi_type</th>\n",
       "      <th>roi_index</th>\n",
       "      <th>saliency</th>\n",
       "      <th>area</th>\n",
       "    </tr>\n",
       "  </thead>\n",
       "  <tbody>\n",
       "    <tr>\n",
       "      <th>0</th>\n",
       "      <td>Cheyenne_20240702_1420</td>\n",
       "      <td>FStil09.png</td>\n",
       "      <td>232.713</td>\n",
       "      <td>392.695</td>\n",
       "      <td>163.256</td>\n",
       "      <td>1527</td>\n",
       "      <td>561</td>\n",
       "      <td>NonFire</td>\n",
       "      <td>1</td>\n",
       "      <td>Cheyenne_Block1_20240702_1420.xlsx</td>\n",
       "      <td>F</td>\n",
       "      <td>Baboon</td>\n",
       "      <td>Cheyenne</td>\n",
       "      <td>1</td>\n",
       "      <td>1</td>\n",
       "      <td>52.848877</td>\n",
       "      <td>771609</td>\n",
       "    </tr>\n",
       "    <tr>\n",
       "      <th>1</th>\n",
       "      <td>Cheyenne_20240702_1420</td>\n",
       "      <td>FStil09.png</td>\n",
       "      <td>409.259</td>\n",
       "      <td>645.983</td>\n",
       "      <td>239.965</td>\n",
       "      <td>1093</td>\n",
       "      <td>378</td>\n",
       "      <td>Fire</td>\n",
       "      <td>1</td>\n",
       "      <td>Cheyenne_Block1_20240702_1420.xlsx</td>\n",
       "      <td>F</td>\n",
       "      <td>Baboon</td>\n",
       "      <td>Cheyenne</td>\n",
       "      <td>1</td>\n",
       "      <td>1</td>\n",
       "      <td>171.167404</td>\n",
       "      <td>771609</td>\n",
       "    </tr>\n",
       "    <tr>\n",
       "      <th>2</th>\n",
       "      <td>Cheyenne_20240702_1420</td>\n",
       "      <td>FStil09.png</td>\n",
       "      <td>655.942</td>\n",
       "      <td>869.192</td>\n",
       "      <td>216.689</td>\n",
       "      <td>1193</td>\n",
       "      <td>525</td>\n",
       "      <td>NonFire</td>\n",
       "      <td>1</td>\n",
       "      <td>Cheyenne_Block1_20240702_1420.xlsx</td>\n",
       "      <td>F</td>\n",
       "      <td>Baboon</td>\n",
       "      <td>Cheyenne</td>\n",
       "      <td>1</td>\n",
       "      <td>1</td>\n",
       "      <td>148.384018</td>\n",
       "      <td>771609</td>\n",
       "    </tr>\n",
       "    <tr>\n",
       "      <th>3</th>\n",
       "      <td>Cheyenne_20240702_1420</td>\n",
       "      <td>FStil09.png</td>\n",
       "      <td>899.287</td>\n",
       "      <td>1055.843</td>\n",
       "      <td>159.995</td>\n",
       "      <td>1664</td>\n",
       "      <td>123</td>\n",
       "      <td>NonFire</td>\n",
       "      <td>1</td>\n",
       "      <td>Cheyenne_Block1_20240702_1420.xlsx</td>\n",
       "      <td>F</td>\n",
       "      <td>Baboon</td>\n",
       "      <td>Cheyenne</td>\n",
       "      <td>0</td>\n",
       "      <td>0</td>\n",
       "      <td>36.488598</td>\n",
       "      <td>993632</td>\n",
       "    </tr>\n",
       "    <tr>\n",
       "      <th>4</th>\n",
       "      <td>Cheyenne_20240702_1420</td>\n",
       "      <td>FStil04.png</td>\n",
       "      <td>83.609</td>\n",
       "      <td>213.495</td>\n",
       "      <td>133.334</td>\n",
       "      <td>929</td>\n",
       "      <td>579</td>\n",
       "      <td>NonFire</td>\n",
       "      <td>1</td>\n",
       "      <td>Cheyenne_Block1_20240702_1420.xlsx</td>\n",
       "      <td>F</td>\n",
       "      <td>Baboon</td>\n",
       "      <td>Cheyenne</td>\n",
       "      <td>0</td>\n",
       "      <td>0</td>\n",
       "      <td>40.138653</td>\n",
       "      <td>1370896</td>\n",
       "    </tr>\n",
       "  </tbody>\n",
       "</table>\n",
       "</div>"
      ],
      "text/plain": [
       "                  Subject      Stimuli  FixStart    FixEnd   FixDur  XPos  \\\n",
       "0  Cheyenne_20240702_1420  FStil09.png   232.713   392.695  163.256  1527   \n",
       "1  Cheyenne_20240702_1420  FStil09.png   409.259   645.983  239.965  1093   \n",
       "2  Cheyenne_20240702_1420  FStil09.png   655.942   869.192  216.689  1193   \n",
       "3  Cheyenne_20240702_1420  FStil09.png   899.287  1055.843  159.995  1664   \n",
       "4  Cheyenne_20240702_1420  FStil04.png    83.609   213.495  133.334   929   \n",
       "\n",
       "   YPos      ROI  Block                               Trial ImageType Species  \\\n",
       "0   561  NonFire      1  Cheyenne_Block1_20240702_1420.xlsx         F  Baboon   \n",
       "1   378     Fire      1  Cheyenne_Block1_20240702_1420.xlsx         F  Baboon   \n",
       "2   525  NonFire      1  Cheyenne_Block1_20240702_1420.xlsx         F  Baboon   \n",
       "3   123  NonFire      1  Cheyenne_Block1_20240702_1420.xlsx         F  Baboon   \n",
       "4   579  NonFire      1  Cheyenne_Block1_20240702_1420.xlsx         F  Baboon   \n",
       "\n",
       "  SubjectName  roi_type  roi_index    saliency     area  \n",
       "0    Cheyenne         1          1   52.848877   771609  \n",
       "1    Cheyenne         1          1  171.167404   771609  \n",
       "2    Cheyenne         1          1  148.384018   771609  \n",
       "3    Cheyenne         0          0   36.488598   993632  \n",
       "4    Cheyenne         0          0   40.138653  1370896  "
      ]
     },
     "execution_count": 6,
     "metadata": {},
     "output_type": "execute_result"
    }
   ],
   "source": [
    "def get_base_name_images(stimuli):\n",
    "    # Always use .jpg for lookup, regardless of original extension\n",
    "    base = os.path.splitext(os.path.basename(stimuli))[0]\n",
    "    return base + \".jpg\"\n",
    "\n",
    "features = []\n",
    "\n",
    "for idx, row in eye_df.iterrows():\n",
    "    img_key = get_base_name_images(row['Stimuli'])\n",
    "    x, y = int(row['XPos']), int(row['YPos'])\n",
    "    \n",
    "    # Skip if image not found or fixation out of bounds\n",
    "    if img_key not in roi_type_dict or img_key not in saliency_dict:\n",
    "        continue\n",
    "    roi_type = roi_type_dict[img_key]\n",
    "    roi_index = roi_index_dict[img_key]\n",
    "    saliency = saliency_dict[img_key]\n",
    "    if y >= roi_type.shape[0] or x >= roi_type.shape[1]:\n",
    "        continue\n",
    "\n",
    "    features.append({\n",
    "        \"Subject\": row[\"Subject\"],\n",
    "        \"Stimuli\": row[\"Stimuli\"],\n",
    "        \"FixStart\": row[\"FixStart\"],\n",
    "        \"FixEnd\": row[\"FixEnd\"],\n",
    "        \"FixDur\": row[\"FixDur\"],\n",
    "        \"XPos\": x,\n",
    "        \"YPos\": y,\n",
    "        \"ROI\": row[\"ROI\"],\n",
    "        \"Block\": row[\"Block\"],\n",
    "        \"Trial\": row[\"Trial\"],\n",
    "        \"ImageType\": row[\"ImageType\"],\n",
    "        \"Species\": row[\"Species\"],\n",
    "        \"SubjectName\": row[\"SubjectName\"],\n",
    "        \"roi_type\": roi_type[y, x],\n",
    "        \"roi_index\": roi_index[y, x],\n",
    "        \"saliency\": saliency[y, x],\n",
    "        \"area\": roi_sizes[img_key].get(roi_index[y, x], 0)  # Get area size or 0 if not found\n",
    "    })\n",
    "\n",
    "fixation_features_df = pd.DataFrame(features)\n",
    "fixation_features_df.head()"
   ]
  },
  {
   "cell_type": "markdown",
   "id": "0eb75ecd",
   "metadata": {},
   "source": [
    "## 4. Logistic Regression: Predicting fire region fixations\n",
    "\n",
    "This cell shows how to use the joined DataFrame to predict whether a fixation falls on a fire region (roi_type == 1) using saliency and fixation duration as predictors."
   ]
  },
  {
   "cell_type": "code",
   "execution_count": 7,
   "id": "6ed2a684",
   "metadata": {},
   "outputs": [
    {
     "name": "stdout",
     "output_type": "stream",
     "text": [
      "Regression coefficients: [[ 8.47190471e-03  6.00536606e-04 -1.41989907e-06]]\n",
      "Odds ratios: [[1.00850789 1.00060072 0.99999858]]\n"
     ]
    }
   ],
   "source": [
    "from sklearn.linear_model import LogisticRegression\n",
    "\n",
    "# Create binary target: 1 if fire region, 0 otherwise\n",
    "fixation_features_df[\"is_fire\"] = (fixation_features_df[\"roi_type\"] == 1).astype(int)\n",
    "X = fixation_features_df[[\"saliency\", \"FixDur\", \"area\"]]\n",
    "y = fixation_features_df[\"is_fire\"]\n",
    "\n",
    "model = LogisticRegression()\n",
    "model.fit(X, y)\n",
    "\n",
    "print(\"Regression coefficients:\", model.coef_)\n",
    "print(\"Odds ratios:\", np.exp(model.coef_))"
   ]
  },
  {
   "cell_type": "markdown",
   "id": "73bf3c5c",
   "metadata": {},
   "source": [
    "## 5. Machine Learning Logistic Regression\n",
    "\n",
    "In this cell, we apply a machine learning approach using logistic regression to predict whether a fixation falls on a fire region (roi_type == 1) based on saliency and fixation duration. The data is split into training and test sets to evaluate the model's predictive accuracy on unseen data."
   ]
  },
  {
   "cell_type": "code",
   "execution_count": 8,
   "id": "0267a433",
   "metadata": {},
   "outputs": [
    {
     "name": "stdout",
     "output_type": "stream",
     "text": [
      "Logistic Regression model accuracy: 62.45%\n"
     ]
    }
   ],
   "source": [
    "# Example: Apply logistic regression to your fire fixation data\n",
    "\n",
    "from sklearn.model_selection import train_test_split\n",
    "from sklearn.metrics import accuracy_score\n",
    "\n",
    "# Prepare features and target\n",
    "X = fixation_features_df[[\"saliency\", \"FixDur\", \"area\"]]\n",
    "y = fixation_features_df[\"is_fire\"]\n",
    "\n",
    "# Split into train and test sets\n",
    "X_train, X_test, y_train, y_test = train_test_split(X, y, test_size=0.20, random_state=23)\n",
    "\n",
    "# Fit logistic regression model\n",
    "clf = LogisticRegression(max_iter=10000, random_state=0)\n",
    "clf.fit(X_train, y_train)\n",
    "\n",
    "# Evaluate accuracy\n",
    "acc = accuracy_score(y_test, clf.predict(X_test)) * 100\n",
    "print(f\"Logistic Regression model accuracy: {acc:.2f}%\")"
   ]
  },
  {
   "cell_type": "code",
   "execution_count": 9,
   "id": "46762b49",
   "metadata": {},
   "outputs": [
    {
     "name": "stdout",
     "output_type": "stream",
     "text": [
      "                            OLS Regression Results                            \n",
      "==============================================================================\n",
      "Dep. Variable:                 FixDur   R-squared:                       0.002\n",
      "Model:                            OLS   Adj. R-squared:                  0.001\n",
      "Method:                 Least Squares   F-statistic:                     6.849\n",
      "Date:                Mon, 02 Jun 2025   Prob (F-statistic):           0.000132\n",
      "Time:                        16:35:43   Log-Likelihood:                -83321.\n",
      "No. Observations:               12487   AIC:                         1.667e+05\n",
      "Df Residuals:                   12483   BIC:                         1.667e+05\n",
      "Df Model:                           3                                         \n",
      "Covariance Type:            nonrobust                                         \n",
      "==============================================================================\n",
      "                 coef    std err          t      P>|t|      [0.025      0.975]\n",
      "------------------------------------------------------------------------------\n",
      "const        255.8513      5.305     48.224      0.000     245.452     266.251\n",
      "saliency       0.1013      0.033      3.059      0.002       0.036       0.166\n",
      "area       -7.186e-06   4.58e-06     -1.570      0.117   -1.62e-05    1.79e-06\n",
      "is_fire        5.5690      3.696      1.507      0.132      -1.676      12.814\n",
      "==============================================================================\n",
      "Omnibus:                    10990.762   Durbin-Watson:                   1.698\n",
      "Prob(Omnibus):                  0.000   Jarque-Bera (JB):           455963.929\n",
      "Skew:                           4.129   Prob(JB):                         0.00\n",
      "Kurtosis:                      31.428   Cond. No.                     2.84e+06\n",
      "==============================================================================\n",
      "\n",
      "Notes:\n",
      "[1] Standard Errors assume that the covariance matrix of the errors is correctly specified.\n",
      "[2] The condition number is large, 2.84e+06. This might indicate that there are\n",
      "strong multicollinearity or other numerical problems.\n"
     ]
    }
   ],
   "source": [
    "import statsmodels.api as sm\n",
    "\n",
    "# Predict FixDur using saliency, area, and whether the fixation is on fire\n",
    "X = fixation_features_df[[\"saliency\", \"area\", \"is_fire\"]]\n",
    "X = sm.add_constant(X)  # Adds intercept\n",
    "y = fixation_features_df[\"FixDur\"]\n",
    "\n",
    "model = sm.OLS(y, X)\n",
    "result = model.fit()\n",
    "print(result.summary())"
   ]
  }
 ],
 "metadata": {
  "kernelspec": {
   "display_name": ".venv",
   "language": "python",
   "name": "python3"
  },
  "language_info": {
   "codemirror_mode": {
    "name": "ipython",
    "version": 3
   },
   "file_extension": ".py",
   "mimetype": "text/x-python",
   "name": "python",
   "nbconvert_exporter": "python",
   "pygments_lexer": "ipython3",
   "version": "3.8.0"
  }
 },
 "nbformat": 4,
 "nbformat_minor": 5
}
